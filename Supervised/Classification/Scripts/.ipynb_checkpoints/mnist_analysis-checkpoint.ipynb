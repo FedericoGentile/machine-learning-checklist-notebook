{
 "cells": [
  {
   "cell_type": "markdown",
   "id": "c30ce5fc",
   "metadata": {},
   "source": [
    "# Frame the Problem and Look at the Big Picture"
   ]
  },
  {
   "cell_type": "markdown",
   "id": "a9f2e4fc",
   "metadata": {},
   "source": [
    "## Define the objective in business terms."
   ]
  },
  {
   "cell_type": "markdown",
   "id": "b981c3b3",
   "metadata": {},
   "source": []
  },
  {
   "cell_type": "markdown",
   "id": "65fb382e",
   "metadata": {},
   "source": [
    "## How will your solution be used?"
   ]
  },
  {
   "cell_type": "markdown",
   "id": "59499092",
   "metadata": {},
   "source": []
  },
  {
   "cell_type": "markdown",
   "id": "2b9fd294",
   "metadata": {},
   "source": [
    "## What are the current solutions/workarounds (if any)?"
   ]
  },
  {
   "cell_type": "markdown",
   "id": "bbaf1d36",
   "metadata": {},
   "source": []
  },
  {
   "cell_type": "markdown",
   "id": "23eb9694",
   "metadata": {},
   "source": [
    "## How should you frame this problem (supervised/unsupervised, online/offline, etc.)?"
   ]
  },
  {
   "cell_type": "markdown",
   "id": "f7e8ad08",
   "metadata": {},
   "source": []
  },
  {
   "cell_type": "markdown",
   "id": "8763a299",
   "metadata": {},
   "source": [
    "## How should performance be measured?"
   ]
  },
  {
   "cell_type": "markdown",
   "id": "e6fd279b",
   "metadata": {},
   "source": []
  },
  {
   "cell_type": "markdown",
   "id": "b52f8594",
   "metadata": {},
   "source": [
    "## Is the performance measure aligned with the business objective?"
   ]
  },
  {
   "cell_type": "markdown",
   "id": "315dc6a0",
   "metadata": {},
   "source": []
  },
  {
   "cell_type": "markdown",
   "id": "56e7516a",
   "metadata": {},
   "source": [
    "## What would be the minimum performance needed to reach the business objective?"
   ]
  },
  {
   "cell_type": "markdown",
   "id": "d23e2c4c",
   "metadata": {},
   "source": []
  },
  {
   "cell_type": "markdown",
   "id": "57d6bc04",
   "metadata": {},
   "source": [
    "## What are comparable problems? Can you reuse experience or tools?"
   ]
  },
  {
   "cell_type": "markdown",
   "id": "2c3c669f",
   "metadata": {},
   "source": []
  },
  {
   "cell_type": "markdown",
   "id": "96d49563",
   "metadata": {},
   "source": [
    "## Is human expertise available?"
   ]
  },
  {
   "cell_type": "markdown",
   "id": "2a5c8fe9",
   "metadata": {},
   "source": []
  },
  {
   "cell_type": "markdown",
   "id": "cb5c9e01",
   "metadata": {},
   "source": [
    "## How would you solve the problem manually?"
   ]
  },
  {
   "cell_type": "markdown",
   "id": "97aae617",
   "metadata": {},
   "source": []
  },
  {
   "cell_type": "markdown",
   "id": "cfa1e236",
   "metadata": {},
   "source": [
    "## List the assumptions you (or others) have made so far."
   ]
  },
  {
   "cell_type": "markdown",
   "id": "bed2a86d",
   "metadata": {},
   "source": []
  },
  {
   "cell_type": "markdown",
   "id": "7fb03bff",
   "metadata": {},
   "source": [
    "## Very assumptions if possible."
   ]
  },
  {
   "cell_type": "markdown",
   "id": "76f8da92",
   "metadata": {},
   "source": []
  },
  {
   "cell_type": "markdown",
   "id": "9e200f12",
   "metadata": {},
   "source": [
    "# Get the Data"
   ]
  },
  {
   "cell_type": "markdown",
   "id": "3156e96a",
   "metadata": {},
   "source": [
    "## List the data you need and how much you need."
   ]
  },
  {
   "cell_type": "code",
   "execution_count": null,
   "id": "9df1f94c",
   "metadata": {},
   "outputs": [],
   "source": []
  },
  {
   "cell_type": "markdown",
   "id": "0fdc901d",
   "metadata": {},
   "source": [
    "## Find and document where you can get that data."
   ]
  },
  {
   "cell_type": "markdown",
   "id": "f803d7cf",
   "metadata": {},
   "source": []
  },
  {
   "cell_type": "markdown",
   "id": "d4a1e54e",
   "metadata": {},
   "source": [
    "## Check how much space it will take."
   ]
  },
  {
   "cell_type": "code",
   "execution_count": null,
   "id": "ca354416",
   "metadata": {},
   "outputs": [],
   "source": []
  },
  {
   "cell_type": "markdown",
   "id": "ab7d079d",
   "metadata": {},
   "source": [
    "## Check legal obligations, and get authorization if necessary."
   ]
  },
  {
   "cell_type": "markdown",
   "id": "043285da",
   "metadata": {},
   "source": []
  },
  {
   "cell_type": "markdown",
   "id": "c92b93ee",
   "metadata": {},
   "source": [
    "## Get access authorizations."
   ]
  },
  {
   "cell_type": "markdown",
   "id": "3b7fcc33",
   "metadata": {},
   "source": []
  },
  {
   "cell_type": "markdown",
   "id": "69510c70",
   "metadata": {},
   "source": [
    "## Create a workspace (with enough storage space)."
   ]
  },
  {
   "cell_type": "markdown",
   "id": "daace42c",
   "metadata": {},
   "source": []
  },
  {
   "cell_type": "markdown",
   "id": "ba9f2496",
   "metadata": {},
   "source": [
    "## Get the data"
   ]
  },
  {
   "cell_type": "code",
   "execution_count": 1,
   "id": "2bdbcfd8",
   "metadata": {
    "ExecuteTime": {
     "end_time": "2022-02-20T20:06:18.882001Z",
     "start_time": "2022-02-20T20:04:14.822502Z"
    }
   },
   "outputs": [
    {
     "name": "stdout",
     "output_type": "stream",
     "text": [
      "dict_keys(['data', 'target', 'frame', 'categories', 'feature_names', 'target_names', 'DESCR', 'details', 'url'])\n",
      "{'data':        pixel1  pixel2  pixel3  pixel4  pixel5  pixel6  pixel7  pixel8  pixel9  \\\n",
      "0         0.0     0.0     0.0     0.0     0.0     0.0     0.0     0.0     0.0   \n",
      "1         0.0     0.0     0.0     0.0     0.0     0.0     0.0     0.0     0.0   \n",
      "2         0.0     0.0     0.0     0.0     0.0     0.0     0.0     0.0     0.0   \n",
      "3         0.0     0.0     0.0     0.0     0.0     0.0     0.0     0.0     0.0   \n",
      "4         0.0     0.0     0.0     0.0     0.0     0.0     0.0     0.0     0.0   \n",
      "...       ...     ...     ...     ...     ...     ...     ...     ...     ...   \n",
      "69995     0.0     0.0     0.0     0.0     0.0     0.0     0.0     0.0     0.0   \n",
      "69996     0.0     0.0     0.0     0.0     0.0     0.0     0.0     0.0     0.0   \n",
      "69997     0.0     0.0     0.0     0.0     0.0     0.0     0.0     0.0     0.0   \n",
      "69998     0.0     0.0     0.0     0.0     0.0     0.0     0.0     0.0     0.0   \n",
      "69999     0.0     0.0     0.0     0.0     0.0     0.0     0.0     0.0     0.0   \n",
      "\n",
      "       pixel10  ...  pixel775  pixel776  pixel777  pixel778  pixel779  \\\n",
      "0          0.0  ...       0.0       0.0       0.0       0.0       0.0   \n",
      "1          0.0  ...       0.0       0.0       0.0       0.0       0.0   \n",
      "2          0.0  ...       0.0       0.0       0.0       0.0       0.0   \n",
      "3          0.0  ...       0.0       0.0       0.0       0.0       0.0   \n",
      "4          0.0  ...       0.0       0.0       0.0       0.0       0.0   \n",
      "...        ...  ...       ...       ...       ...       ...       ...   \n",
      "69995      0.0  ...       0.0       0.0       0.0       0.0       0.0   \n",
      "69996      0.0  ...       0.0       0.0       0.0       0.0       0.0   \n",
      "69997      0.0  ...       0.0       0.0       0.0       0.0       0.0   \n",
      "69998      0.0  ...       0.0       0.0       0.0       0.0       0.0   \n",
      "69999      0.0  ...       0.0       0.0       0.0       0.0       0.0   \n",
      "\n",
      "       pixel780  pixel781  pixel782  pixel783  pixel784  \n",
      "0           0.0       0.0       0.0       0.0       0.0  \n",
      "1           0.0       0.0       0.0       0.0       0.0  \n",
      "2           0.0       0.0       0.0       0.0       0.0  \n",
      "3           0.0       0.0       0.0       0.0       0.0  \n",
      "4           0.0       0.0       0.0       0.0       0.0  \n",
      "...         ...       ...       ...       ...       ...  \n",
      "69995       0.0       0.0       0.0       0.0       0.0  \n",
      "69996       0.0       0.0       0.0       0.0       0.0  \n",
      "69997       0.0       0.0       0.0       0.0       0.0  \n",
      "69998       0.0       0.0       0.0       0.0       0.0  \n",
      "69999       0.0       0.0       0.0       0.0       0.0  \n",
      "\n",
      "[70000 rows x 784 columns], 'target': 0        5\n",
      "1        0\n",
      "2        4\n",
      "3        1\n",
      "4        9\n",
      "        ..\n",
      "69995    2\n",
      "69996    3\n",
      "69997    4\n",
      "69998    5\n",
      "69999    6\n",
      "Name: class, Length: 70000, dtype: category\n",
      "Categories (10, object): ['0', '1', '2', '3', ..., '6', '7', '8', '9'], 'frame':        pixel1  pixel2  pixel3  pixel4  pixel5  pixel6  pixel7  pixel8  pixel9  \\\n",
      "0         0.0     0.0     0.0     0.0     0.0     0.0     0.0     0.0     0.0   \n",
      "1         0.0     0.0     0.0     0.0     0.0     0.0     0.0     0.0     0.0   \n",
      "2         0.0     0.0     0.0     0.0     0.0     0.0     0.0     0.0     0.0   \n",
      "3         0.0     0.0     0.0     0.0     0.0     0.0     0.0     0.0     0.0   \n",
      "4         0.0     0.0     0.0     0.0     0.0     0.0     0.0     0.0     0.0   \n",
      "...       ...     ...     ...     ...     ...     ...     ...     ...     ...   \n",
      "69995     0.0     0.0     0.0     0.0     0.0     0.0     0.0     0.0     0.0   \n",
      "69996     0.0     0.0     0.0     0.0     0.0     0.0     0.0     0.0     0.0   \n",
      "69997     0.0     0.0     0.0     0.0     0.0     0.0     0.0     0.0     0.0   \n",
      "69998     0.0     0.0     0.0     0.0     0.0     0.0     0.0     0.0     0.0   \n",
      "69999     0.0     0.0     0.0     0.0     0.0     0.0     0.0     0.0     0.0   \n",
      "\n",
      "       pixel10  ...  pixel776  pixel777  pixel778  pixel779  pixel780  \\\n",
      "0          0.0  ...       0.0       0.0       0.0       0.0       0.0   \n",
      "1          0.0  ...       0.0       0.0       0.0       0.0       0.0   \n",
      "2          0.0  ...       0.0       0.0       0.0       0.0       0.0   \n",
      "3          0.0  ...       0.0       0.0       0.0       0.0       0.0   \n",
      "4          0.0  ...       0.0       0.0       0.0       0.0       0.0   \n",
      "...        ...  ...       ...       ...       ...       ...       ...   \n",
      "69995      0.0  ...       0.0       0.0       0.0       0.0       0.0   \n",
      "69996      0.0  ...       0.0       0.0       0.0       0.0       0.0   \n",
      "69997      0.0  ...       0.0       0.0       0.0       0.0       0.0   \n",
      "69998      0.0  ...       0.0       0.0       0.0       0.0       0.0   \n",
      "69999      0.0  ...       0.0       0.0       0.0       0.0       0.0   \n",
      "\n",
      "       pixel781  pixel782  pixel783  pixel784  class  \n",
      "0           0.0       0.0       0.0       0.0      5  \n",
      "1           0.0       0.0       0.0       0.0      0  \n",
      "2           0.0       0.0       0.0       0.0      4  \n",
      "3           0.0       0.0       0.0       0.0      1  \n",
      "4           0.0       0.0       0.0       0.0      9  \n",
      "...         ...       ...       ...       ...    ...  \n",
      "69995       0.0       0.0       0.0       0.0      2  \n",
      "69996       0.0       0.0       0.0       0.0      3  \n",
      "69997       0.0       0.0       0.0       0.0      4  \n",
      "69998       0.0       0.0       0.0       0.0      5  \n",
      "69999       0.0       0.0       0.0       0.0      6  \n",
      "\n",
      "[70000 rows x 785 columns], 'categories': None, 'feature_names': ['pixel1', 'pixel2', 'pixel3', 'pixel4', 'pixel5', 'pixel6', 'pixel7', 'pixel8', 'pixel9', 'pixel10', 'pixel11', 'pixel12', 'pixel13', 'pixel14', 'pixel15', 'pixel16', 'pixel17', 'pixel18', 'pixel19', 'pixel20', 'pixel21', 'pixel22', 'pixel23', 'pixel24', 'pixel25', 'pixel26', 'pixel27', 'pixel28', 'pixel29', 'pixel30', 'pixel31', 'pixel32', 'pixel33', 'pixel34', 'pixel35', 'pixel36', 'pixel37', 'pixel38', 'pixel39', 'pixel40', 'pixel41', 'pixel42', 'pixel43', 'pixel44', 'pixel45', 'pixel46', 'pixel47', 'pixel48', 'pixel49', 'pixel50', 'pixel51', 'pixel52', 'pixel53', 'pixel54', 'pixel55', 'pixel56', 'pixel57', 'pixel58', 'pixel59', 'pixel60', 'pixel61', 'pixel62', 'pixel63', 'pixel64', 'pixel65', 'pixel66', 'pixel67', 'pixel68', 'pixel69', 'pixel70', 'pixel71', 'pixel72', 'pixel73', 'pixel74', 'pixel75', 'pixel76', 'pixel77', 'pixel78', 'pixel79', 'pixel80', 'pixel81', 'pixel82', 'pixel83', 'pixel84', 'pixel85', 'pixel86', 'pixel87', 'pixel88', 'pixel89', 'pixel90', 'pixel91', 'pixel92', 'pixel93', 'pixel94', 'pixel95', 'pixel96', 'pixel97', 'pixel98', 'pixel99', 'pixel100', 'pixel101', 'pixel102', 'pixel103', 'pixel104', 'pixel105', 'pixel106', 'pixel107', 'pixel108', 'pixel109', 'pixel110', 'pixel111', 'pixel112', 'pixel113', 'pixel114', 'pixel115', 'pixel116', 'pixel117', 'pixel118', 'pixel119', 'pixel120', 'pixel121', 'pixel122', 'pixel123', 'pixel124', 'pixel125', 'pixel126', 'pixel127', 'pixel128', 'pixel129', 'pixel130', 'pixel131', 'pixel132', 'pixel133', 'pixel134', 'pixel135', 'pixel136', 'pixel137', 'pixel138', 'pixel139', 'pixel140', 'pixel141', 'pixel142', 'pixel143', 'pixel144', 'pixel145', 'pixel146', 'pixel147', 'pixel148', 'pixel149', 'pixel150', 'pixel151', 'pixel152', 'pixel153', 'pixel154', 'pixel155', 'pixel156', 'pixel157', 'pixel158', 'pixel159', 'pixel160', 'pixel161', 'pixel162', 'pixel163', 'pixel164', 'pixel165', 'pixel166', 'pixel167', 'pixel168', 'pixel169', 'pixel170', 'pixel171', 'pixel172', 'pixel173', 'pixel174', 'pixel175', 'pixel176', 'pixel177', 'pixel178', 'pixel179', 'pixel180', 'pixel181', 'pixel182', 'pixel183', 'pixel184', 'pixel185', 'pixel186', 'pixel187', 'pixel188', 'pixel189', 'pixel190', 'pixel191', 'pixel192', 'pixel193', 'pixel194', 'pixel195', 'pixel196', 'pixel197', 'pixel198', 'pixel199', 'pixel200', 'pixel201', 'pixel202', 'pixel203', 'pixel204', 'pixel205', 'pixel206', 'pixel207', 'pixel208', 'pixel209', 'pixel210', 'pixel211', 'pixel212', 'pixel213', 'pixel214', 'pixel215', 'pixel216', 'pixel217', 'pixel218', 'pixel219', 'pixel220', 'pixel221', 'pixel222', 'pixel223', 'pixel224', 'pixel225', 'pixel226', 'pixel227', 'pixel228', 'pixel229', 'pixel230', 'pixel231', 'pixel232', 'pixel233', 'pixel234', 'pixel235', 'pixel236', 'pixel237', 'pixel238', 'pixel239', 'pixel240', 'pixel241', 'pixel242', 'pixel243', 'pixel244', 'pixel245', 'pixel246', 'pixel247', 'pixel248', 'pixel249', 'pixel250', 'pixel251', 'pixel252', 'pixel253', 'pixel254', 'pixel255', 'pixel256', 'pixel257', 'pixel258', 'pixel259', 'pixel260', 'pixel261', 'pixel262', 'pixel263', 'pixel264', 'pixel265', 'pixel266', 'pixel267', 'pixel268', 'pixel269', 'pixel270', 'pixel271', 'pixel272', 'pixel273', 'pixel274', 'pixel275', 'pixel276', 'pixel277', 'pixel278', 'pixel279', 'pixel280', 'pixel281', 'pixel282', 'pixel283', 'pixel284', 'pixel285', 'pixel286', 'pixel287', 'pixel288', 'pixel289', 'pixel290', 'pixel291', 'pixel292', 'pixel293', 'pixel294', 'pixel295', 'pixel296', 'pixel297', 'pixel298', 'pixel299', 'pixel300', 'pixel301', 'pixel302', 'pixel303', 'pixel304', 'pixel305', 'pixel306', 'pixel307', 'pixel308', 'pixel309', 'pixel310', 'pixel311', 'pixel312', 'pixel313', 'pixel314', 'pixel315', 'pixel316', 'pixel317', 'pixel318', 'pixel319', 'pixel320', 'pixel321', 'pixel322', 'pixel323', 'pixel324', 'pixel325', 'pixel326', 'pixel327', 'pixel328', 'pixel329', 'pixel330', 'pixel331', 'pixel332', 'pixel333', 'pixel334', 'pixel335', 'pixel336', 'pixel337', 'pixel338', 'pixel339', 'pixel340', 'pixel341', 'pixel342', 'pixel343', 'pixel344', 'pixel345', 'pixel346', 'pixel347', 'pixel348', 'pixel349', 'pixel350', 'pixel351', 'pixel352', 'pixel353', 'pixel354', 'pixel355', 'pixel356', 'pixel357', 'pixel358', 'pixel359', 'pixel360', 'pixel361', 'pixel362', 'pixel363', 'pixel364', 'pixel365', 'pixel366', 'pixel367', 'pixel368', 'pixel369', 'pixel370', 'pixel371', 'pixel372', 'pixel373', 'pixel374', 'pixel375', 'pixel376', 'pixel377', 'pixel378', 'pixel379', 'pixel380', 'pixel381', 'pixel382', 'pixel383', 'pixel384', 'pixel385', 'pixel386', 'pixel387', 'pixel388', 'pixel389', 'pixel390', 'pixel391', 'pixel392', 'pixel393', 'pixel394', 'pixel395', 'pixel396', 'pixel397', 'pixel398', 'pixel399', 'pixel400', 'pixel401', 'pixel402', 'pixel403', 'pixel404', 'pixel405', 'pixel406', 'pixel407', 'pixel408', 'pixel409', 'pixel410', 'pixel411', 'pixel412', 'pixel413', 'pixel414', 'pixel415', 'pixel416', 'pixel417', 'pixel418', 'pixel419', 'pixel420', 'pixel421', 'pixel422', 'pixel423', 'pixel424', 'pixel425', 'pixel426', 'pixel427', 'pixel428', 'pixel429', 'pixel430', 'pixel431', 'pixel432', 'pixel433', 'pixel434', 'pixel435', 'pixel436', 'pixel437', 'pixel438', 'pixel439', 'pixel440', 'pixel441', 'pixel442', 'pixel443', 'pixel444', 'pixel445', 'pixel446', 'pixel447', 'pixel448', 'pixel449', 'pixel450', 'pixel451', 'pixel452', 'pixel453', 'pixel454', 'pixel455', 'pixel456', 'pixel457', 'pixel458', 'pixel459', 'pixel460', 'pixel461', 'pixel462', 'pixel463', 'pixel464', 'pixel465', 'pixel466', 'pixel467', 'pixel468', 'pixel469', 'pixel470', 'pixel471', 'pixel472', 'pixel473', 'pixel474', 'pixel475', 'pixel476', 'pixel477', 'pixel478', 'pixel479', 'pixel480', 'pixel481', 'pixel482', 'pixel483', 'pixel484', 'pixel485', 'pixel486', 'pixel487', 'pixel488', 'pixel489', 'pixel490', 'pixel491', 'pixel492', 'pixel493', 'pixel494', 'pixel495', 'pixel496', 'pixel497', 'pixel498', 'pixel499', 'pixel500', 'pixel501', 'pixel502', 'pixel503', 'pixel504', 'pixel505', 'pixel506', 'pixel507', 'pixel508', 'pixel509', 'pixel510', 'pixel511', 'pixel512', 'pixel513', 'pixel514', 'pixel515', 'pixel516', 'pixel517', 'pixel518', 'pixel519', 'pixel520', 'pixel521', 'pixel522', 'pixel523', 'pixel524', 'pixel525', 'pixel526', 'pixel527', 'pixel528', 'pixel529', 'pixel530', 'pixel531', 'pixel532', 'pixel533', 'pixel534', 'pixel535', 'pixel536', 'pixel537', 'pixel538', 'pixel539', 'pixel540', 'pixel541', 'pixel542', 'pixel543', 'pixel544', 'pixel545', 'pixel546', 'pixel547', 'pixel548', 'pixel549', 'pixel550', 'pixel551', 'pixel552', 'pixel553', 'pixel554', 'pixel555', 'pixel556', 'pixel557', 'pixel558', 'pixel559', 'pixel560', 'pixel561', 'pixel562', 'pixel563', 'pixel564', 'pixel565', 'pixel566', 'pixel567', 'pixel568', 'pixel569', 'pixel570', 'pixel571', 'pixel572', 'pixel573', 'pixel574', 'pixel575', 'pixel576', 'pixel577', 'pixel578', 'pixel579', 'pixel580', 'pixel581', 'pixel582', 'pixel583', 'pixel584', 'pixel585', 'pixel586', 'pixel587', 'pixel588', 'pixel589', 'pixel590', 'pixel591', 'pixel592', 'pixel593', 'pixel594', 'pixel595', 'pixel596', 'pixel597', 'pixel598', 'pixel599', 'pixel600', 'pixel601', 'pixel602', 'pixel603', 'pixel604', 'pixel605', 'pixel606', 'pixel607', 'pixel608', 'pixel609', 'pixel610', 'pixel611', 'pixel612', 'pixel613', 'pixel614', 'pixel615', 'pixel616', 'pixel617', 'pixel618', 'pixel619', 'pixel620', 'pixel621', 'pixel622', 'pixel623', 'pixel624', 'pixel625', 'pixel626', 'pixel627', 'pixel628', 'pixel629', 'pixel630', 'pixel631', 'pixel632', 'pixel633', 'pixel634', 'pixel635', 'pixel636', 'pixel637', 'pixel638', 'pixel639', 'pixel640', 'pixel641', 'pixel642', 'pixel643', 'pixel644', 'pixel645', 'pixel646', 'pixel647', 'pixel648', 'pixel649', 'pixel650', 'pixel651', 'pixel652', 'pixel653', 'pixel654', 'pixel655', 'pixel656', 'pixel657', 'pixel658', 'pixel659', 'pixel660', 'pixel661', 'pixel662', 'pixel663', 'pixel664', 'pixel665', 'pixel666', 'pixel667', 'pixel668', 'pixel669', 'pixel670', 'pixel671', 'pixel672', 'pixel673', 'pixel674', 'pixel675', 'pixel676', 'pixel677', 'pixel678', 'pixel679', 'pixel680', 'pixel681', 'pixel682', 'pixel683', 'pixel684', 'pixel685', 'pixel686', 'pixel687', 'pixel688', 'pixel689', 'pixel690', 'pixel691', 'pixel692', 'pixel693', 'pixel694', 'pixel695', 'pixel696', 'pixel697', 'pixel698', 'pixel699', 'pixel700', 'pixel701', 'pixel702', 'pixel703', 'pixel704', 'pixel705', 'pixel706', 'pixel707', 'pixel708', 'pixel709', 'pixel710', 'pixel711', 'pixel712', 'pixel713', 'pixel714', 'pixel715', 'pixel716', 'pixel717', 'pixel718', 'pixel719', 'pixel720', 'pixel721', 'pixel722', 'pixel723', 'pixel724', 'pixel725', 'pixel726', 'pixel727', 'pixel728', 'pixel729', 'pixel730', 'pixel731', 'pixel732', 'pixel733', 'pixel734', 'pixel735', 'pixel736', 'pixel737', 'pixel738', 'pixel739', 'pixel740', 'pixel741', 'pixel742', 'pixel743', 'pixel744', 'pixel745', 'pixel746', 'pixel747', 'pixel748', 'pixel749', 'pixel750', 'pixel751', 'pixel752', 'pixel753', 'pixel754', 'pixel755', 'pixel756', 'pixel757', 'pixel758', 'pixel759', 'pixel760', 'pixel761', 'pixel762', 'pixel763', 'pixel764', 'pixel765', 'pixel766', 'pixel767', 'pixel768', 'pixel769', 'pixel770', 'pixel771', 'pixel772', 'pixel773', 'pixel774', 'pixel775', 'pixel776', 'pixel777', 'pixel778', 'pixel779', 'pixel780', 'pixel781', 'pixel782', 'pixel783', 'pixel784'], 'target_names': ['class'], 'DESCR': \"**Author**: Yann LeCun, Corinna Cortes, Christopher J.C. Burges  \\n**Source**: [MNIST Website](http://yann.lecun.com/exdb/mnist/) - Date unknown  \\n**Please cite**:  \\n\\nThe MNIST database of handwritten digits with 784 features, raw data available at: http://yann.lecun.com/exdb/mnist/. It can be split in a training set of the first 60,000 examples, and a test set of 10,000 examples  \\n\\nIt is a subset of a larger set available from NIST. The digits have been size-normalized and centered in a fixed-size image. It is a good database for people who want to try learning techniques and pattern recognition methods on real-world data while spending minimal efforts on preprocessing and formatting. The original black and white (bilevel) images from NIST were size normalized to fit in a 20x20 pixel box while preserving their aspect ratio. The resulting images contain grey levels as a result of the anti-aliasing technique used by the normalization algorithm. the images were centered in a 28x28 image by computing the center of mass of the pixels, and translating the image so as to position this point at the center of the 28x28 field.  \\n\\nWith some classification methods (particularly template-based methods, such as SVM and K-nearest neighbors), the error rate improves when the digits are centered by bounding box rather than center of mass. If you do this kind of pre-processing, you should report it in your publications. The MNIST database was constructed from NIST's NIST originally designated SD-3 as their training set and SD-1 as their test set. However, SD-3 is much cleaner and easier to recognize than SD-1. The reason for this can be found on the fact that SD-3 was collected among Census Bureau employees, while SD-1 was collected among high-school students. Drawing sensible conclusions from learning experiments requires that the result be independent of the choice of training set and test among the complete set of samples. Therefore it was necessary to build a new database by mixing NIST's datasets.  \\n\\nThe MNIST training set is composed of 30,000 patterns from SD-3 and 30,000 patterns from SD-1. Our test set was composed of 5,000 patterns from SD-3 and 5,000 patterns from SD-1. The 60,000 pattern training set contained examples from approximately 250 writers. We made sure that the sets of writers of the training set and test set were disjoint. SD-1 contains 58,527 digit images written by 500 different writers. In contrast to SD-3, where blocks of data from each writer appeared in sequence, the data in SD-1 is scrambled. Writer identities for SD-1 is available and we used this information to unscramble the writers. We then split SD-1 in two: characters written by the first 250 writers went into our new training set. The remaining 250 writers were placed in our test set. Thus we had two sets with nearly 30,000 examples each. The new training set was completed with enough examples from SD-3, starting at pattern # 0, to make a full set of 60,000 training patterns. Similarly, the new test set was completed with SD-3 examples starting at pattern # 35,000 to make a full set with 60,000 test patterns. Only a subset of 10,000 test images (5,000 from SD-1 and 5,000 from SD-3) is available on this site. The full 60,000 sample training set is available.\\n\\nDownloaded from openml.org.\", 'details': {'id': '554', 'name': 'mnist_784', 'version': '1', 'description_version': '1', 'format': 'ARFF', 'creator': ['Yann LeCun', 'Corinna Cortes', 'Christopher J.C. Burges'], 'upload_date': '2014-09-29T03:28:38', 'language': 'English', 'licence': 'Public', 'url': 'https://www.openml.org/data/v1/download/52667/mnist_784.arff', 'file_id': '52667', 'default_target_attribute': 'class', 'tag': ['AzurePilot', 'OpenML-CC18', 'OpenML100', 'study_1', 'study_123', 'study_41', 'study_99', 'vision'], 'visibility': 'public', 'status': 'active', 'processing_date': '2020-11-20 20:12:09', 'md5_checksum': '0298d579eb1b86163de7723944c7e495'}, 'url': 'https://www.openml.org/d/554'}\n"
     ]
    }
   ],
   "source": [
    "from sklearn.datasets import fetch_openml\n",
    "mnist = fetch_openml(\"mnist_784\", version=1)\n",
    "print(mnist.keys())\n",
    "print(mnist)"
   ]
  },
  {
   "cell_type": "markdown",
   "id": "085a9546",
   "metadata": {},
   "source": [
    "## Convert the data to a format you can easily manipulate (without changing the data itself)."
   ]
  },
  {
   "cell_type": "code",
   "execution_count": 2,
   "id": "20cf8044",
   "metadata": {
    "ExecuteTime": {
     "end_time": "2022-02-20T20:06:19.004009Z",
     "start_time": "2022-02-20T20:06:18.906000Z"
    }
   },
   "outputs": [
    {
     "name": "stdout",
     "output_type": "stream",
     "text": [
      "   pixel1  pixel2  pixel3  pixel4  pixel5  pixel6  pixel7  pixel8  pixel9  \\\n",
      "0     0.0     0.0     0.0     0.0     0.0     0.0     0.0     0.0     0.0   \n",
      "1     0.0     0.0     0.0     0.0     0.0     0.0     0.0     0.0     0.0   \n",
      "2     0.0     0.0     0.0     0.0     0.0     0.0     0.0     0.0     0.0   \n",
      "3     0.0     0.0     0.0     0.0     0.0     0.0     0.0     0.0     0.0   \n",
      "4     0.0     0.0     0.0     0.0     0.0     0.0     0.0     0.0     0.0   \n",
      "\n",
      "   pixel10  ...  pixel775  pixel776  pixel777  pixel778  pixel779  pixel780  \\\n",
      "0      0.0  ...       0.0       0.0       0.0       0.0       0.0       0.0   \n",
      "1      0.0  ...       0.0       0.0       0.0       0.0       0.0       0.0   \n",
      "2      0.0  ...       0.0       0.0       0.0       0.0       0.0       0.0   \n",
      "3      0.0  ...       0.0       0.0       0.0       0.0       0.0       0.0   \n",
      "4      0.0  ...       0.0       0.0       0.0       0.0       0.0       0.0   \n",
      "\n",
      "   pixel781  pixel782  pixel783  pixel784  \n",
      "0       0.0       0.0       0.0       0.0  \n",
      "1       0.0       0.0       0.0       0.0  \n",
      "2       0.0       0.0       0.0       0.0  \n",
      "3       0.0       0.0       0.0       0.0  \n",
      "4       0.0       0.0       0.0       0.0  \n",
      "\n",
      "[5 rows x 784 columns]\n",
      "0    5\n",
      "1    0\n",
      "2    4\n",
      "3    1\n",
      "4    9\n",
      "Name: class, dtype: category\n",
      "Categories (10, object): ['0', '1', '2', '3', ..., '6', '7', '8', '9']\n"
     ]
    }
   ],
   "source": [
    "X, y = mnist[\"data\"], mnist[\"target\"]\n",
    "print(X.head())\n",
    "print(y.head())"
   ]
  },
  {
   "cell_type": "code",
   "execution_count": 3,
   "id": "95bcac48",
   "metadata": {
    "ExecuteTime": {
     "end_time": "2022-02-20T20:06:19.066012Z",
     "start_time": "2022-02-20T20:06:19.020009Z"
    }
   },
   "outputs": [],
   "source": [
    "import numpy as np\n",
    "from sklearn import preprocessing\n",
    "\n",
    "y = y.astype(np.uint8)\n",
    "classes = y.drop_duplicates().sort_values().tolist()"
   ]
  },
  {
   "cell_type": "markdown",
   "id": "55b84d4c",
   "metadata": {},
   "source": [
    "## Ensure sensitive information is deleted or protected (eg. anonymized)."
   ]
  },
  {
   "cell_type": "code",
   "execution_count": null,
   "id": "74720f48",
   "metadata": {},
   "outputs": [],
   "source": []
  },
  {
   "cell_type": "markdown",
   "id": "2b6d33fe",
   "metadata": {},
   "source": [
    "## Check the size and type of data (time series, sample, geographical, etc.)."
   ]
  },
  {
   "cell_type": "code",
   "execution_count": 4,
   "id": "98fcdb65",
   "metadata": {
    "ExecuteTime": {
     "end_time": "2022-02-20T20:06:19.715057Z",
     "start_time": "2022-02-20T20:06:19.079015Z"
    }
   },
   "outputs": [
    {
     "name": "stdout",
     "output_type": "stream",
     "text": [
      "<class 'pandas.core.frame.DataFrame'>\n",
      "RangeIndex: 70000 entries, 0 to 69999\n",
      "Columns: 784 entries, pixel1 to pixel784\n",
      "dtypes: float64(784)\n",
      "memory usage: 418.7 MB\n",
      "None\n"
     ]
    }
   ],
   "source": [
    "print(X.info())"
   ]
  },
  {
   "cell_type": "code",
   "execution_count": 5,
   "id": "302f5859",
   "metadata": {
    "ExecuteTime": {
     "end_time": "2022-02-20T20:06:19.746058Z",
     "start_time": "2022-02-20T20:06:19.723064Z"
    }
   },
   "outputs": [
    {
     "name": "stdout",
     "output_type": "stream",
     "text": [
      "(70000, 784)\n",
      "(70000,)\n"
     ]
    }
   ],
   "source": [
    "print(X.shape)\n",
    "print(y.shape)"
   ]
  },
  {
   "cell_type": "code",
   "execution_count": 6,
   "id": "1c4db4d8",
   "metadata": {
    "ExecuteTime": {
     "end_time": "2022-02-20T20:06:22.849976Z",
     "start_time": "2022-02-20T20:06:19.750063Z"
    }
   },
   "outputs": [
    {
     "data": {
      "image/png": "[encoded data removed]",
      "text/plain": [
       "<Figure size 432x288 with 1 Axes>"
      ]
     },
     "metadata": {
      "needs_background": "light"
     },
     "output_type": "display_data"
    }
   ],
   "source": [
    "import matplotlib as mlp\n",
    "import matplotlib.pyplot as plt\n",
    "\n",
    "i = 0\n",
    "some_digit = X.iloc[i]\n",
    "some_digit_image = some_digit.values.reshape(28,28)\n",
    "\n",
    "plt.imshow(some_digit_image, cmap=\"binary\")\n",
    "plt.title(f\"This is the number {y[i]}\")\n",
    "plt.axis(\"off\")\n",
    "plt.show()"
   ]
  },
  {
   "cell_type": "markdown",
   "id": "a192f4bf",
   "metadata": {},
   "source": [
    "## Sample a test set, put it aside, and never look at it (no data snooping!)."
   ]
  },
  {
   "cell_type": "markdown",
   "id": "970b4039",
   "metadata": {},
   "source": [
    "### Stratified sampling"
   ]
  },
  {
   "cell_type": "code",
   "execution_count": 7,
   "id": "f770e99f",
   "metadata": {
    "ExecuteTime": {
     "end_time": "2022-02-20T20:06:24.610164Z",
     "start_time": "2022-02-20T20:06:22.874512Z"
    }
   },
   "outputs": [],
   "source": [
    "X_train, X_test, y_train, y_test = X.iloc[:60000], X.iloc[60000:], y.iloc[:60000], y.iloc[60000:]\n",
    "\n",
    "shuffle_index = np.random.permutation(y_train.shape[0])\n",
    "X_train, y_train = X_train.iloc[shuffle_index], y_train.iloc[shuffle_index]\n",
    "\n",
    "shuffle_index = np.random.permutation(y_test.shape[0])\n",
    "X_test, y_test = X_test.iloc[shuffle_index], y_test.iloc[shuffle_index]"
   ]
  },
  {
   "cell_type": "markdown",
   "id": "2725c975",
   "metadata": {},
   "source": [
    "# Explore the Data"
   ]
  },
  {
   "cell_type": "markdown",
   "id": "a3079a1c",
   "metadata": {},
   "source": [
    "## Create a copy of the data for exploration (sampling it down to a manageable size if necessary)."
   ]
  },
  {
   "cell_type": "code",
   "execution_count": null,
   "id": "b5ad55fb",
   "metadata": {},
   "outputs": [],
   "source": []
  },
  {
   "cell_type": "markdown",
   "id": "18c28cd8",
   "metadata": {},
   "source": [
    "## Study each attribute and its characteristics.\n",
    "- Name\n",
    "- Type (categorical, int/float, bounded/unbounded, text, structured, etc.)\n",
    "- % of missing values\n",
    "- Noisiness and type of noise (stochastic, outliers, rounding errors, etc.)\n",
    "- Usefulness for the task\n",
    "- Type of distribution (Gaussian, uniform, logarithmic, etc.)"
   ]
  },
  {
   "cell_type": "markdown",
   "id": "38f49b42",
   "metadata": {},
   "source": []
  },
  {
   "cell_type": "markdown",
   "id": "0b82cabb",
   "metadata": {},
   "source": [
    "## For supervised learning tasks, identify the target attribute(s)."
   ]
  },
  {
   "cell_type": "code",
   "execution_count": null,
   "id": "6a1b2c47",
   "metadata": {},
   "outputs": [],
   "source": []
  },
  {
   "cell_type": "markdown",
   "id": "a88a1b0c",
   "metadata": {},
   "source": [
    "## Visualize the data"
   ]
  },
  {
   "cell_type": "code",
   "execution_count": null,
   "id": "86fc8871",
   "metadata": {},
   "outputs": [],
   "source": []
  },
  {
   "cell_type": "markdown",
   "id": "336828dc",
   "metadata": {},
   "source": [
    "## Study the correlations between attributes."
   ]
  },
  {
   "cell_type": "code",
   "execution_count": null,
   "id": "0a493cb3",
   "metadata": {},
   "outputs": [],
   "source": []
  },
  {
   "cell_type": "markdown",
   "id": "b9797676",
   "metadata": {},
   "source": [
    "## Study how you would solve the problem manually."
   ]
  },
  {
   "cell_type": "code",
   "execution_count": null,
   "id": "229ad150",
   "metadata": {},
   "outputs": [],
   "source": []
  },
  {
   "cell_type": "markdown",
   "id": "ddc0fee3",
   "metadata": {},
   "source": [
    "## Identify the promising transformations you may want to apply."
   ]
  },
  {
   "cell_type": "code",
   "execution_count": null,
   "id": "7bc172a6",
   "metadata": {},
   "outputs": [],
   "source": []
  },
  {
   "cell_type": "markdown",
   "id": "0940a23b",
   "metadata": {},
   "source": [
    "## Identify extra data that would be useful."
   ]
  },
  {
   "cell_type": "code",
   "execution_count": null,
   "id": "808e8494",
   "metadata": {},
   "outputs": [],
   "source": []
  },
  {
   "cell_type": "markdown",
   "id": "3d579cb5",
   "metadata": {},
   "source": [
    "## Document what you have learned."
   ]
  },
  {
   "cell_type": "markdown",
   "id": "86e0711c",
   "metadata": {},
   "source": []
  },
  {
   "cell_type": "markdown",
   "id": "0de463a5",
   "metadata": {},
   "source": [
    "# Prepare the Data\n",
    "- Work on copies of the data (keep the original dataset intact).\n",
    "- Write functions for all data transformations you apply.\n",
    "    - So you can easily prepare the data the next time you get a fresh dataset\n",
    "    - So you can apply these transformations in future projects\n",
    "    - To clean and prepare the test set\n",
    "    - To clean and prepare new data instances once your solution is live\n",
    "    - To make it easy to treat your preparation choices as hyperparameters"
   ]
  },
  {
   "cell_type": "markdown",
   "id": "3412d0d5",
   "metadata": {},
   "source": [
    "## Data cleaning.\n",
    "- Fix or remove outliers (optional)\n",
    "- Fill in missing values (e.g., with zeros, mean, median...) or drop their rows (or columns) "
   ]
  },
  {
   "cell_type": "code",
   "execution_count": null,
   "id": "e910cfa6",
   "metadata": {},
   "outputs": [],
   "source": []
  },
  {
   "cell_type": "markdown",
   "id": "3c9afcfb",
   "metadata": {},
   "source": [
    "## Feature selection (optional).\n",
    "- Drop the attributes that provide no useful information for the task\n",
    "- Use some dimensionality reduction technique if necessary (PCA, KernelPCA, LLE...)"
   ]
  },
  {
   "cell_type": "code",
   "execution_count": null,
   "id": "789de995",
   "metadata": {},
   "outputs": [],
   "source": []
  },
  {
   "cell_type": "markdown",
   "id": "c39cb5f7",
   "metadata": {},
   "source": [
    "## Feature engineering, where appropriate.\n",
    "- Discretize continuous features\n",
    "- Decompose features (e.g., categorical, date/time, etc.)\n",
    "- Add promising transformations of features (e.g., log(x), sqrt(x), x^2, etc.)\n",
    "- Aggregate features into promising new features"
   ]
  },
  {
   "cell_type": "code",
   "execution_count": null,
   "id": "fc7705bf",
   "metadata": {},
   "outputs": [],
   "source": []
  },
  {
   "cell_type": "markdown",
   "id": "ff546f5e",
   "metadata": {},
   "source": [
    "## Feauture scaling\n",
    "- Standardize or normalize features"
   ]
  },
  {
   "cell_type": "code",
   "execution_count": 8,
   "id": "f24d586f",
   "metadata": {
    "ExecuteTime": {
     "end_time": "2022-02-20T20:06:27.727396Z",
     "start_time": "2022-02-20T20:06:24.618167Z"
    }
   },
   "outputs": [],
   "source": [
    "from sklearn.preprocessing import StandardScaler\n",
    "    \n",
    "scaler = StandardScaler()\n",
    "X_train_scaled = scaler.fit_transform(X_train.astype(np.float64))"
   ]
  },
  {
   "cell_type": "markdown",
   "id": "fa9ecb05",
   "metadata": {},
   "source": [
    "## Reconstruct data\n",
    "- Use pipelines to automate all steps if possible."
   ]
  },
  {
   "cell_type": "code",
   "execution_count": 9,
   "id": "2b221d07",
   "metadata": {
    "ExecuteTime": {
     "end_time": "2022-02-20T20:06:31.012639Z",
     "start_time": "2022-02-20T20:06:27.734397Z"
    }
   },
   "outputs": [],
   "source": [
    "from sklearn.pipeline import Pipeline\n",
    "from sklearn.compose import ColumnTransformer\n",
    "\n",
    "num_pipeline = Pipeline([\n",
    "    ('std_scaler', StandardScaler())\n",
    "])\n",
    "\n",
    "X_train_prepared = num_pipeline.fit_transform(X_train)"
   ]
  },
  {
   "cell_type": "markdown",
   "id": "dccfe095",
   "metadata": {},
   "source": [
    "# Shortlisting Promising Models\n",
    "- If the data is huge, you may want to sample smaller training sets so you can train many different models in a reasonable time (be aware that this penalizes complex models such as large neural nets or Random Forests).\n",
    "- Once again, try to automate these steps as much as possible."
   ]
  },
  {
   "cell_type": "markdown",
   "id": "3d7d5dda",
   "metadata": {},
   "source": [
    "## Train many quick-and-dirty models from different categories (e.g., linear, naive Bayes, SVM, Random Forest, neural net, etc.) using standard parameters."
   ]
  },
  {
   "cell_type": "code",
   "execution_count": 10,
   "id": "753171dc",
   "metadata": {
    "ExecuteTime": {
     "end_time": "2022-02-20T20:06:31.770356Z",
     "start_time": "2022-02-20T20:06:31.017640Z"
    },
    "code_folding": [
     8,
     15
    ]
   },
   "outputs": [],
   "source": [
    "import seaborn as sns\n",
    "from sklearn.metrics import precision_recall_curve\n",
    "from sklearn.metrics import average_precision_score\n",
    "from sklearn.preprocessing import label_binarize\n",
    "from sklearn.metrics import PrecisionRecallDisplay\n",
    "from sklearn.metrics import roc_curve, auc\n",
    "from itertools import cycle\n",
    "import pandas as pd\n",
    "\n",
    "def plot_normalized_confusion_matrix(confusion_matrix):\n",
    "    row_sums = conf_mx.sum(axis=1, keepdims=True)\n",
    "    norm_conf_mx = conf_mx / row_sums\n",
    "    np.fill_diagonal(norm_conf_mx, 0)\n",
    "    plt.matshow(norm_conf_mx, cmap=plt.cm.gray)\n",
    "    plt.show()\n",
    "    \n",
    "def accuracy_scores(confusion_matrix):\n",
    "    msg = \"accuracy\\n\\n\"\n",
    "    accuracies = []\n",
    "    for i in range(confusion_matrix.shape[0]):\n",
    "        tp = confusion_matrix[i][i]\n",
    "        fn = sum(np.delete(confusion_matrix[i], i))\n",
    "        fp = sum(np.delete(confusion_matrix[:, i], i))\n",
    "        tn = sum(sum(np.delete(np.delete(confusion_matrix, i, 0), i, 1)))\n",
    "        accuracy = (tp+tn)/(tp+  fn+  fp+  tn)\n",
    "        accuracies.append(accuracy)\n",
    "        msg += str(round(accuracy,2))+\"\\n\"\n",
    "    msg += f\"accuracy avg: {round(np.mean(accuracies),2)}\\n\\n\"\n",
    "    return msg\n",
    "    \n",
    "class analyze_classifier():\n",
    "    def __init__(self, classifier, X, y, y_score=np.array([])):\n",
    "        \n",
    "        if len(y_score)==0:\n",
    "            try:\n",
    "                self.y_score = classifier.decision_function(X)\n",
    "            except:\n",
    "                self.y_score = classifier.predict_proba(X)\n",
    "        else:\n",
    "            self.y_score = y_score\n",
    "        self.classifier = classifier\n",
    "        self.X = X\n",
    "        self.y = y\n",
    "        self.y_binarized = label_binarize(y, classes=classifier.classes_)\n",
    "        self.precision, self.recall, self.threshold, self.average_precision = self.get_precision_recall_classes()\n",
    "        self.fpr, self.tpr, self.roc_auc = self.get_roc_auc_classes()\n",
    "        self.colors = cycle([\"navy\", \"turquoise\", \"darkorange\", \"cornflowerblue\", \"teal\", \"red\", \"green\", \"black\", \"blue\", \"pink\"])\n",
    "\n",
    "        \n",
    "    def get_precision_recall_classes(self):\n",
    "        \n",
    "        # For each class\n",
    "        precision = dict()\n",
    "        recall = dict()\n",
    "        average_precision = dict()\n",
    "        threshold = dict()\n",
    "        for i in range(self.classifier.n_classes_):\n",
    "            precision[i], recall[i], threshold[i] = precision_recall_curve(self.y_binarized[:, i], self.y_score[:, i])\n",
    "            average_precision[i] = average_precision_score(self.y_binarized[:, i], self.y_score[:, i])\n",
    "            \n",
    "        # A \"micro-average\": quantifying score on all classes jointly       \n",
    "        precision[\"micro\"], recall[\"micro\"], threshold[\"micro\"] = precision_recall_curve(\n",
    "            self.y_binarized.ravel(), \n",
    "            self.y_score.ravel()\n",
    "        )\n",
    "        average_precision[\"micro\"] = average_precision_score(self.y_binarized, self.y_score, average=\"micro\")\n",
    "        \n",
    "        return precision, recall, threshold, average_precision\n",
    "        \n",
    "    def get_roc_auc_classes(self):\n",
    "        \n",
    "        # Compute ROC curve and ROC area for each class\n",
    "        fpr = dict()\n",
    "        tpr = dict()\n",
    "        roc_auc = dict()\n",
    "        for i in range(self.classifier.n_classes_):\n",
    "            fpr[i], tpr[i], _ = roc_curve(self.y_binarized[:, i], self.y_score[:, i])\n",
    "            roc_auc[i] = auc(fpr[i], tpr[i])\n",
    "\n",
    "        # Compute micro-average ROC curve and ROC area\n",
    "        fpr[\"micro\"], tpr[\"micro\"], _ = roc_curve(self.y_binarized.ravel(), self.y_score.ravel())\n",
    "        roc_auc[\"micro\"] = auc(fpr[\"micro\"], tpr[\"micro\"])\n",
    "\n",
    "        # Compute macro-average ROC curve and ROC area\n",
    "        all_fpr = np.unique(np.concatenate([fpr[i] for i in range(self.classifier.n_classes_)])) # First aggregate all false positive rates\n",
    "        mean_tpr = np.zeros_like(all_fpr) # Then interpolate all ROC curves at this points\n",
    "        for i in range(self.classifier.n_classes_):\n",
    "            mean_tpr += np.interp(all_fpr, fpr[i], tpr[i])\n",
    "        mean_tpr /= self.classifier.n_classes_ # Finally average it and compute AUC\n",
    "\n",
    "        fpr[\"macro\"] = all_fpr\n",
    "        tpr[\"macro\"] = mean_tpr\n",
    "        roc_auc[\"macro\"] = auc(fpr[\"macro\"], tpr[\"macro\"])\n",
    "        \n",
    "        return fpr, tpr, roc_auc\n",
    "    \n",
    "    def plot_precision_recall_micro(self):\n",
    "        \n",
    "        _, ax = plt.subplots(figsize=(16, 9))\n",
    "        display = PrecisionRecallDisplay(\n",
    "            recall=self.recall[\"micro\"],\n",
    "            precision=self.precision[\"micro\"],\n",
    "            average_precision=self.average_precision[\"micro\"],\n",
    "\n",
    "        )\n",
    "        display.plot(ax=ax)\n",
    "        _ = display.ax_.set_title(\"Micro-averaged over all classes\")\n",
    "        \n",
    "    def plot_precision_recall_classes(self):\n",
    "        \n",
    "        # setup plot details\n",
    "        _, ax = plt.subplots(figsize=(16, 9))\n",
    "\n",
    "        f_scores = np.linspace(0.2, 0.8, num=4)\n",
    "        lines, labels = [], []\n",
    "        for f_score in f_scores:\n",
    "            x = np.linspace(0.01, 1)\n",
    "            y = f_score * x / (2 * x - f_score)\n",
    "            (l,) = plt.plot(x[y >= 0], y[y >= 0], color=\"gray\", alpha=0.2)\n",
    "            plt.annotate(\"f1={0:0.1f}\".format(f_score), xy=(0.9, y[45] + 0.02))\n",
    "\n",
    "        display = PrecisionRecallDisplay(\n",
    "            recall=self.recall[\"micro\"],\n",
    "            precision=self.precision[\"micro\"],\n",
    "            average_precision=self.average_precision[\"micro\"],\n",
    "        )\n",
    "        display.plot(ax=ax, name=\"Micro-average precision-recall\", color=\"gold\")\n",
    "\n",
    "        for i, color in zip(range(self.classifier.n_classes_), self.colors):\n",
    "            display = PrecisionRecallDisplay(\n",
    "                recall=self.recall[i],\n",
    "                precision=self.precision[i],\n",
    "                average_precision=self.average_precision[i],\n",
    "            )\n",
    "            display.plot(ax=ax, name=f\"Precision-recall for class {i}\", color=color)\n",
    "\n",
    "        # add the legend for the iso-f1 curves\n",
    "        handles, labels = display.ax_.get_legend_handles_labels()\n",
    "        handles.extend([l])\n",
    "        labels.extend([\"iso-f1 curves\"])\n",
    "        # set the legend and the axes\n",
    "        ax.set_xlim([0.0, 1.0])\n",
    "        ax.set_ylim([0.0, 1.05])\n",
    "        ax.legend(handles=handles, labels=labels, loc=\"best\")\n",
    "        ax.set_title(\"Extension of Precision-Recall curve to multi-class\")\n",
    "\n",
    "        plt.show()\n",
    "        \n",
    "    def plot_precision_recall_vs_threshold(self, classes_indexes=True):\n",
    "        \n",
    "        if classes_indexes==True:\n",
    "            classes_indexes = list(self.classifier.classes_)\n",
    "        \n",
    "        plt.figure(figsize=(16,9))\n",
    "        for c, color in zip(classes_indexes, self.colors):\n",
    "            plt.plot(self.threshold[c], self.precision[c][:-1], \"--\", color=color)\n",
    "            plt.plot(self.threshold[c], self.recall[c][:-1], \"-\", label='class {}'.format(c), color=color)\n",
    "        plt.xlabel(\"Threshold\")\n",
    "        plt.legend(loc=\"best\")\n",
    "        plt.title(\"Precision (--) and Recall (-) vs. Threshold Curve\")\n",
    "        plt.grid(visible=True)\n",
    "        plt.show()\n",
    "        \n",
    "    def plot_roc_micro_macro(self):\n",
    "        # micro and macro ROC curve\n",
    "        _, ax = plt.subplots(figsize=(16, 9))\n",
    "        lw = 2\n",
    "        ax.plot(\n",
    "            self.fpr['micro'],\n",
    "            self.tpr['micro'],\n",
    "            lw=lw,\n",
    "            label=(\"ROC curve micro (area = %0.2f)\" % self.roc_auc['micro']),\n",
    "        )\n",
    "        ax.plot(\n",
    "            self.fpr['macro'],\n",
    "            self.tpr['macro'],\n",
    "            lw=lw,\n",
    "            label=(\"ROC curve micro (area = %0.2f)\" % self.roc_auc['macro']),\n",
    "        )\n",
    "        plt.plot([0, 1], [0, 1], color=\"navy\", lw=lw, linestyle=\"--\")\n",
    "        plt.xlim([0.0, 1.0])\n",
    "        plt.ylim([0.0, 1.05])\n",
    "        plt.xlabel(\"False Positive Rate\")\n",
    "        plt.ylabel(\"True Positive Rate\")\n",
    "        plt.title(\"Receiver operating characteristic for %s\" % self.classifier.get_params()['estimator__steps'][0][-1])\n",
    "        plt.legend(loc=\"lower right\")\n",
    "        plt.show()\n",
    "        \n",
    "    def plot_roc_classes(self):\n",
    "        _, ax = plt.subplots(figsize=(16, 9))\n",
    "        lw = 2\n",
    "        for c, color in zip(range(self.classifier.n_classes_), self.colors):\n",
    "            ax.plot(\n",
    "                self.fpr[c],\n",
    "                self.tpr[c],\n",
    "                color=color,\n",
    "                lw=lw,\n",
    "                label=(\"ROC curve for class %d (area = %0.2f)\" % (c, self.roc_auc[c])),\n",
    "            )\n",
    "        plt.plot([0, 1], [0, 1], color=\"navy\", lw=lw, linestyle=\"--\")\n",
    "        plt.xlim([0.0, 1.0])\n",
    "        plt.ylim([0.0, 1.05])\n",
    "        plt.xlabel(\"False Positive Rate\")\n",
    "        plt.ylabel(\"True Positive Rate\")\n",
    "        plt.title(\"Receiver operating characteristic for each class\")\n",
    "        plt.legend(loc=\"lower right\")\n",
    "        plt.show()"
   ]
  },
  {
   "cell_type": "markdown",
   "id": "94ecae71",
   "metadata": {},
   "source": [
    "### Stochastic Gradient Descent"
   ]
  },
  {
   "cell_type": "code",
   "execution_count": null,
   "id": "b7390db1",
   "metadata": {
    "ExecuteTime": {
     "start_time": "2022-02-20T20:04:15.041Z"
    }
   },
   "outputs": [],
   "source": [
    "from sklearn.linear_model import SGDClassifier\n",
    "from sklearn.multiclass import OneVsRestClassifier#, OneVsOneClassifier\n",
    "from sklearn.pipeline import make_pipeline\n",
    "\n",
    "sgd_classifier = OneVsRestClassifier(\n",
    "    make_pipeline(SGDClassifier(random_state=42))\n",
    ")\n",
    "sgd_classifier.fit(X_train_prepared, y_train)"
   ]
  },
  {
   "cell_type": "code",
   "execution_count": null,
   "id": "0611bc37",
   "metadata": {
    "ExecuteTime": {
     "start_time": "2022-02-20T20:04:15.053Z"
    }
   },
   "outputs": [],
   "source": [
    "from sklearn.metrics import confusion_matrix\n",
    "y_train_pred =  sgd_classifier.predict(X_train_prepared)\n",
    "conf_mx = confusion_matrix(y_train, y_train_pred)\n",
    "print(conf_mx)\n",
    "plot_normalized_confusion_matrix(conf_mx)"
   ]
  },
  {
   "cell_type": "code",
   "execution_count": null,
   "id": "fc78dacf",
   "metadata": {
    "ExecuteTime": {
     "start_time": "2022-02-20T20:04:15.063Z"
    }
   },
   "outputs": [],
   "source": [
    "from sklearn.metrics import accuracy_score, classification_report\n",
    "print(classification_report(y_train, y_train_pred))"
   ]
  },
  {
   "cell_type": "code",
   "execution_count": null,
   "id": "324f7a22",
   "metadata": {
    "ExecuteTime": {
     "start_time": "2022-02-20T20:04:15.072Z"
    },
    "scrolled": false
   },
   "outputs": [],
   "source": [
    "sgd = analyze_classifier(sgd_classifier, X_train_prepared, y_train)\n",
    "sgd.plot_precision_recall_micro()\n",
    "sgd.plot_precision_recall_classes()\n",
    "sgd.plot_precision_recall_vs_threshold()\n",
    "sgd.plot_roc_classes()\n",
    "sgd.plot_roc_micro_macro()"
   ]
  },
  {
   "cell_type": "markdown",
   "id": "ff51ab81",
   "metadata": {},
   "source": [
    "###  Random Forest"
   ]
  },
  {
   "cell_type": "code",
   "execution_count": null,
   "id": "23ef91fc",
   "metadata": {
    "ExecuteTime": {
     "start_time": "2022-02-20T20:04:15.082Z"
    }
   },
   "outputs": [],
   "source": [
    "from sklearn.ensemble import RandomForestClassifier\n",
    "\n",
    "rf_classifier = OneVsRestClassifier(\n",
    "    make_pipeline(RandomForestClassifier(random_state=42))\n",
    ")\n",
    "rf_classifier.fit(X_train_prepared, y_train)"
   ]
  },
  {
   "cell_type": "code",
   "execution_count": null,
   "id": "fee1926f",
   "metadata": {
    "ExecuteTime": {
     "start_time": "2022-02-20T20:04:15.092Z"
    }
   },
   "outputs": [],
   "source": [
    "y_train_pred =  rf_classifier.predict(X_train_prepared)\n",
    "conf_mx = confusion_matrix(y_train, y_train_pred)\n",
    "print(conf_mx)\n",
    "plot_normalized_confusion_matrix(conf_mx)"
   ]
  },
  {
   "cell_type": "code",
   "execution_count": null,
   "id": "80eb42f7",
   "metadata": {
    "ExecuteTime": {
     "start_time": "2022-02-20T20:04:15.102Z"
    }
   },
   "outputs": [],
   "source": [
    "print(classification_report(y_train, y_train_pred))"
   ]
  },
  {
   "cell_type": "code",
   "execution_count": null,
   "id": "0f4fe4d6",
   "metadata": {
    "ExecuteTime": {
     "start_time": "2022-02-20T20:04:15.113Z"
    },
    "scrolled": false
   },
   "outputs": [],
   "source": [
    "rfc = analyze_classifier(rf_classifier, X_train_prepared, y_train)\n",
    "rfc.plot_precision_recall_micro()\n",
    "rfc.plot_precision_recall_classes()\n",
    "rfc.plot_precision_recall_vs_threshold()\n",
    "rfc.plot_roc_classes()\n",
    "rfc.plot_roc_micro_macro()"
   ]
  },
  {
   "cell_type": "markdown",
   "id": "49964d71",
   "metadata": {},
   "source": [
    "## Measure and compare their performance.\n",
    "- For each model, use N-fold cross-validation and compute the mean and standard deviation of the performance measure on the N folds."
   ]
  },
  {
   "cell_type": "markdown",
   "id": "8e4726b4",
   "metadata": {},
   "source": [
    "### Stochastic Gradient Decent\n",
    "- [Multilabel PrecisionVsRecall example](https://scikit-learn.org/stable/auto_examples/model_selection/plot_precision_recall.html#sphx-glr-auto-examples-model-selection-plot-precision-recall-py)\n",
    "\n",
    "- [Multilabel ROC example](https://scikit-learn.org/stable/auto_examples/model_selection/plot_roc.html)"
   ]
  },
  {
   "cell_type": "code",
   "execution_count": null,
   "id": "7eadf192",
   "metadata": {
    "ExecuteTime": {
     "start_time": "2022-02-20T20:04:15.129Z"
    }
   },
   "outputs": [],
   "source": [
    "from sklearn.model_selection import cross_val_score, cross_val_predict\n",
    "\n",
    "sgd_classifier.classes_ = classes\n",
    "y_train_score = cross_val_predict(sgd_classifier, X_train_prepared, y_train, cv=3, method=\"decision_function\")\n",
    "y_train_pred = np.argmax(y_train_score, axis=1)"
   ]
  },
  {
   "cell_type": "code",
   "execution_count": null,
   "id": "11f4bddf",
   "metadata": {
    "ExecuteTime": {
     "start_time": "2022-02-20T20:04:15.140Z"
    }
   },
   "outputs": [],
   "source": [
    "conf_mx = confusion_matrix(y_train, y_train_pred)\n",
    "print(conf_mx)\n",
    "plot_normalized_confusion_matrix(conf_mx)"
   ]
  },
  {
   "cell_type": "code",
   "execution_count": null,
   "id": "23466261",
   "metadata": {
    "ExecuteTime": {
     "start_time": "2022-02-20T20:04:15.150Z"
    }
   },
   "outputs": [],
   "source": [
    "print(classification_report(y_train, y_train_pred))"
   ]
  },
  {
   "cell_type": "code",
   "execution_count": null,
   "id": "76c88384",
   "metadata": {
    "ExecuteTime": {
     "start_time": "2022-02-20T20:04:15.165Z"
    },
    "scrolled": false
   },
   "outputs": [],
   "source": [
    "sgd = analyze_classifier(sgd_classifier, X_train_prepared, y_train, y_train_score)\n",
    "sgd.plot_precision_recall_micro()\n",
    "sgd.plot_precision_recall_classes()\n",
    "sgd.plot_precision_recall_vs_threshold()\n",
    "sgd.plot_roc_classes()\n",
    "sgd.plot_roc_micro_macro()"
   ]
  },
  {
   "cell_type": "markdown",
   "id": "d0183c84",
   "metadata": {},
   "source": [
    "### Random Forest"
   ]
  },
  {
   "cell_type": "code",
   "execution_count": null,
   "id": "49a265cc",
   "metadata": {
    "ExecuteTime": {
     "start_time": "2022-02-20T20:04:15.178Z"
    }
   },
   "outputs": [],
   "source": [
    "rf_classifier.classes_ = classes\n",
    "y_train_score = cross_val_predict(rf_classifier, X_train_prepared, y_train, cv=3, method=\"predict_proba\")\n",
    "y_train_pred = np.argmax(y_train_score, axis=1)"
   ]
  },
  {
   "cell_type": "code",
   "execution_count": null,
   "id": "11fd7e90",
   "metadata": {
    "ExecuteTime": {
     "start_time": "2022-02-20T20:04:15.190Z"
    }
   },
   "outputs": [],
   "source": [
    "conf_mx = confusion_matrix(y_train, y_train_pred)\n",
    "print(conf_mx)\n",
    "plot_normalized_confusion_matrix(conf_mx)"
   ]
  },
  {
   "cell_type": "code",
   "execution_count": null,
   "id": "11f8077d",
   "metadata": {
    "ExecuteTime": {
     "start_time": "2022-02-20T20:04:15.200Z"
    }
   },
   "outputs": [],
   "source": [
    "print(classification_report(y_train, y_train_pred))"
   ]
  },
  {
   "cell_type": "code",
   "execution_count": null,
   "id": "a55fdbd6",
   "metadata": {
    "ExecuteTime": {
     "start_time": "2022-02-20T20:04:15.211Z"
    },
    "scrolled": false
   },
   "outputs": [],
   "source": [
    "rfc = analyze_classifier(rf_classifier, X_train_prepared, y_train, y_train_score)\n",
    "rfc.plot_precision_recall_micro()\n",
    "rfc.plot_precision_recall_classes()\n",
    "rfc.plot_precision_recall_vs_threshold()\n",
    "rfc.plot_roc_classes()\n",
    "rfc.plot_roc_micro_macro()"
   ]
  },
  {
   "cell_type": "markdown",
   "id": "3d496db7",
   "metadata": {},
   "source": [
    "### Compare ROC curves"
   ]
  },
  {
   "cell_type": "code",
   "execution_count": null,
   "id": "2cf39a3f",
   "metadata": {
    "ExecuteTime": {
     "start_time": "2022-02-20T20:04:15.224Z"
    }
   },
   "outputs": [],
   "source": [
    "_, ax = plt.subplots(figsize=(16, 9))\n",
    "lw = 2\n",
    "ax.plot(\n",
    "    sgd.fpr['macro'],\n",
    "    sgd.tpr['macro'],\n",
    "    lw=lw,\n",
    "    label=(\"Stochastic Gradient Decent (area = %0.2f)\" % sgd.roc_auc['macro']),\n",
    ")\n",
    "ax.plot(\n",
    "    rfc.fpr['macro'],\n",
    "    rfc.tpr['macro'],\n",
    "    lw=lw,\n",
    "    label=(\"Random Forest (area = %0.2f)\" % rfc.roc_auc['macro']),\n",
    ")\n",
    "plt.plot([0, 1], [0, 1], color=\"navy\", lw=lw, linestyle=\"--\")\n",
    "plt.xlim([0.0, 1.0])\n",
    "plt.ylim([0.0, 1.05])\n",
    "plt.xlabel(\"False Positive Rate\")\n",
    "plt.ylabel(\"True Positive Rate\")\n",
    "plt.title(\"ROC (macro)\")\n",
    "plt.legend(loc=\"lower right\")\n",
    "plt.show()"
   ]
  },
  {
   "cell_type": "markdown",
   "id": "b79987b0",
   "metadata": {},
   "source": [
    "## Analyze the most significant variables for each algorithm."
   ]
  },
  {
   "cell_type": "code",
   "execution_count": null,
   "id": "6bc919a6",
   "metadata": {
    "ExecuteTime": {
     "start_time": "2022-02-20T20:04:15.237Z"
    }
   },
   "outputs": [],
   "source": [
    "attributes = X.columns.tolist()\n",
    "def feature_importance(features, attributes):\n",
    "    for f, a in sorted(zip(features, attributes), reverse=True):\n",
    "        print(f\"{a}\\t{f}\")"
   ]
  },
  {
   "cell_type": "markdown",
   "id": "220d7515",
   "metadata": {},
   "source": [
    "### Stochastic Gradient Decent"
   ]
  },
  {
   "cell_type": "code",
   "execution_count": null,
   "id": "7ba40d1e",
   "metadata": {
    "ExecuteTime": {
     "start_time": "2022-02-20T20:04:15.254Z"
    }
   },
   "outputs": [],
   "source": [
    "sgd_features = sgd_classifier.estimators_[0].named_steps['sgdclassifier'].coef_[0]\n",
    "feature_importance(sgd_features, attributes)"
   ]
  },
  {
   "cell_type": "markdown",
   "id": "cd87051b",
   "metadata": {},
   "source": [
    "### Random Forest"
   ]
  },
  {
   "cell_type": "code",
   "execution_count": null,
   "id": "55414665",
   "metadata": {
    "ExecuteTime": {
     "start_time": "2022-02-20T20:04:15.266Z"
    }
   },
   "outputs": [],
   "source": [
    "rf_features = rf_classifier.estimators_[0].named_steps['randomforestclassifier'].feature_importances_\n",
    "feature_importance(rf_features, attributes)"
   ]
  },
  {
   "cell_type": "markdown",
   "id": "7f38b31e",
   "metadata": {},
   "source": [
    "## Analyze the types of errors the models make.\n",
    "- What data would a human have used to avoid these errors?"
   ]
  },
  {
   "cell_type": "code",
   "execution_count": null,
   "id": "19e5d616",
   "metadata": {},
   "outputs": [],
   "source": []
  },
  {
   "cell_type": "markdown",
   "id": "39f09559",
   "metadata": {},
   "source": [
    "## Perform a quick round of feature selection and engineering."
   ]
  },
  {
   "cell_type": "code",
   "execution_count": null,
   "id": "7daa7e88",
   "metadata": {},
   "outputs": [],
   "source": []
  },
  {
   "cell_type": "markdown",
   "id": "0e7d937a",
   "metadata": {},
   "source": [
    "## Perform one or two more quick iterations of the five previous steps."
   ]
  },
  {
   "cell_type": "code",
   "execution_count": null,
   "id": "17f77cb3",
   "metadata": {},
   "outputs": [],
   "source": []
  },
  {
   "cell_type": "markdown",
   "id": "4101f21a",
   "metadata": {},
   "source": [
    "## Shortlist the top three to five most promising models, preferring models that make different types of errors."
   ]
  },
  {
   "cell_type": "code",
   "execution_count": null,
   "id": "ef3fae9c",
   "metadata": {},
   "outputs": [],
   "source": []
  },
  {
   "cell_type": "markdown",
   "id": "85bcc38e",
   "metadata": {},
   "source": [
    "# Fine-Tune the System\n",
    "- You will want to use as much data as possible for this step, especially as you move towards the end of fine-tuning.\n",
    "- As always automate what you can."
   ]
  },
  {
   "cell_type": "markdown",
   "id": "9b92fa80",
   "metadata": {},
   "source": [
    "## Fine-tune the hyperparameters using cross-validation.\n",
    "- Treat your data transformation choices as hyperparameters, especially when you are not sure about them (e.g., if you are not sure whether to replace missing values with zeros or with the median value, or to just drop the rows).\n",
    "- Unless there are very few hyperparameter values to explore, prefer random search over grid search. If training is very long, you may prefer a Bayesian optimization approach (e.g., using Gaussian process priors)."
   ]
  },
  {
   "cell_type": "code",
   "execution_count": null,
   "id": "011d2244",
   "metadata": {
    "ExecuteTime": {
     "start_time": "2022-02-20T20:04:15.321Z"
    }
   },
   "outputs": [],
   "source": [
    "rf_classifier.estimator[0].get_params()"
   ]
  },
  {
   "cell_type": "code",
   "execution_count": null,
   "id": "dbb82e05",
   "metadata": {
    "ExecuteTime": {
     "start_time": "2022-02-20T20:04:15.336Z"
    },
    "scrolled": false
   },
   "outputs": [],
   "source": [
    "from sklearn.model_selection import GridSearchCV\n",
    "from sklearn.metrics import make_scorer, precision_score, recall_score, f1_score\n",
    "\n",
    "param_grid = [\n",
    "    {'estimator__randomforestclassifier__n_estimators': [3, 10], 'estimator__randomforestclassifier__max_features': [2]},\n",
    "    {'estimator__randomforestclassifier__bootstrap': [False], 'estimator__randomforestclassifier__n_estimators': [3, 10], 'estimator__randomforestclassifier__max_features': [2, 3, 4]}\n",
    "]\n",
    "scores = ['accuracy',\n",
    "           'precision_macro',\n",
    "           'recall_macro',\n",
    "           'f1_macro',\n",
    "           'precision_micro',\n",
    "           'recall_micro',\n",
    "           'f1_micro',\n",
    "           'f1_weighted']\n",
    "\n",
    "grid_search_models = {}\n",
    "for score in scores:\n",
    "    grid_search = GridSearchCV(\n",
    "        rf_classifier, param_grid=param_grid, cv=2, scoring=score, refit=True\n",
    "    )\n",
    "    grid_search.fit(X_train_prepared, y_train)\n",
    "    grid_search_models[score] = grid_search"
   ]
  },
  {
   "cell_type": "code",
   "execution_count": null,
   "id": "90bd9b41",
   "metadata": {
    "ExecuteTime": {
     "start_time": "2022-02-20T20:04:15.349Z"
    }
   },
   "outputs": [],
   "source": [
    "for key in grid_search_models.keys():\n",
    "    print(f'-----------{key}-----------')\n",
    "    print('best score: ', grid_search_models[key].best_score_)\n",
    "    print('best parameters: ', grid_search_models[key].best_params_)\n",
    "    print('best model: ', grid_search_models[key].best_estimator_)\n",
    "    cv_res = grid_search_models[key].cv_results_\n",
    "    print('cross validation results')\n",
    "    for mean_score, std_score, param in zip(cv_res[\"mean_test_score\"], cv_res[\"std_test_score\"], cv_res[\"params\"]):\n",
    "        print(mean_score, std_score, param)"
   ]
  },
  {
   "cell_type": "markdown",
   "id": "d955c48b",
   "metadata": {},
   "source": [
    "## Try Ensemble methods. Combining your best models will often produce better performance than running them individually."
   ]
  },
  {
   "cell_type": "code",
   "execution_count": null,
   "id": "3c03ea11",
   "metadata": {},
   "outputs": [],
   "source": []
  },
  {
   "cell_type": "markdown",
   "id": "90dad7b5",
   "metadata": {},
   "source": [
    "## Once you are confident about your final model, measure its performance on the test set to estimate the generalization error.\n",
    "- Don't tweak your model after measuring the generalization error: you would just start overfitting the test set."
   ]
  },
  {
   "cell_type": "code",
   "execution_count": null,
   "id": "a0ffdc2a",
   "metadata": {
    "ExecuteTime": {
     "start_time": "2022-02-20T20:04:15.375Z"
    },
    "scrolled": false
   },
   "outputs": [],
   "source": [
    "n = 9800\n",
    "for key in grid_search_models.keys():\n",
    "    print(f'-----------{key}-----------')\n",
    "    final_model = grid_search_models[key].best_estimator_\n",
    "    X_test_prepared = num_pipeline.fit_transform(X_test[0:n])\n",
    "    y_test_pred = final_model.predict(X_test_prepared)\n",
    "    conf_mx = confusion_matrix(y_test[0:n], y_test_pred)\n",
    "    print(conf_mx)\n",
    "    plot_normalized_confusion_matrix(conf_mx)\n",
    "    print(classification_report(y_test[0:n], y_test_pred))\n",
    "    fm = analyze_classifier(final_model, X_test_prepared, y_test[0:n])\n",
    "    fm.plot_precision_recall_micro()\n",
    "    fm.plot_precision_recall_classes()\n",
    "    fm.plot_precision_recall_vs_threshold()\n",
    "    fm.plot_roc_classes()\n",
    "    fm.plot_roc_micro_macro()"
   ]
  },
  {
   "cell_type": "markdown",
   "id": "6e9a3e9e",
   "metadata": {},
   "source": [
    "# Present Your Solution"
   ]
  },
  {
   "cell_type": "markdown",
   "id": "7c4c9957",
   "metadata": {},
   "source": [
    "## Document what you have down."
   ]
  },
  {
   "cell_type": "markdown",
   "id": "a5c9deef",
   "metadata": {},
   "source": []
  },
  {
   "cell_type": "markdown",
   "id": "6c35c397",
   "metadata": {},
   "source": [
    "## Create a nice presentation.\n",
    "- Make sure you highlight the big picture first."
   ]
  },
  {
   "cell_type": "markdown",
   "id": "660cc963",
   "metadata": {},
   "source": []
  },
  {
   "cell_type": "markdown",
   "id": "91f430dc",
   "metadata": {},
   "source": [
    "## Explain why your solution achieves the business objective."
   ]
  },
  {
   "cell_type": "markdown",
   "id": "430514dd",
   "metadata": {},
   "source": []
  },
  {
   "cell_type": "markdown",
   "id": "a181b3bb",
   "metadata": {},
   "source": [
    "## Don't forget to present interesting points you noticed along the way.\n",
    "- Describe what worked and what did not.\n",
    "- List your assumptions and your system's limitations."
   ]
  },
  {
   "cell_type": "markdown",
   "id": "5d290b99",
   "metadata": {},
   "source": []
  },
  {
   "cell_type": "markdown",
   "id": "d299f99d",
   "metadata": {},
   "source": [
    "## Ensure your key findings are communicated through beautiful visalizations or easy-to-remember statements."
   ]
  },
  {
   "cell_type": "markdown",
   "id": "5c7c1a90",
   "metadata": {},
   "source": []
  },
  {
   "cell_type": "markdown",
   "id": "a1daf9a4",
   "metadata": {},
   "source": [
    "# Launch!"
   ]
  },
  {
   "cell_type": "markdown",
   "id": "3a54449b",
   "metadata": {},
   "source": [
    "## Get your solution ready for production (plug into production data inputs, write unit tests, etc.)."
   ]
  },
  {
   "cell_type": "markdown",
   "id": "ebef4493",
   "metadata": {},
   "source": []
  },
  {
   "cell_type": "markdown",
   "id": "003109a6",
   "metadata": {},
   "source": [
    "## Write monitoring code to check your system's live performance at regular intervals and trigger alerts when it drops.\n",
    "- Beware of slow degradation: models tend to \"rot\" as data evolves.\n",
    "- Measuring performance may require a human pipeline (e.g., via a crowdsourcing service).\n",
    "- Also monitor your inputs' quality (e.g., a malfunctioning sensor sending random values, or another team's output becoming stale). This is particularly important for online learning systems."
   ]
  },
  {
   "cell_type": "markdown",
   "id": "2623fc9d",
   "metadata": {},
   "source": []
  },
  {
   "cell_type": "markdown",
   "id": "3be35113",
   "metadata": {},
   "source": [
    "## Retrain your models on regular basis on fresh data (automate as much as possible)."
   ]
  },
  {
   "cell_type": "markdown",
   "id": "640c12da",
   "metadata": {},
   "source": []
  }
 ],
 "metadata": {
  "hide_input": false,
  "kernelspec": {
   "display_name": "Python 3 (ipykernel)",
   "language": "python",
   "name": "python3"
  },
  "language_info": {
   "codemirror_mode": {
    "name": "ipython",
    "version": 3
   },
   "file_extension": ".py",
   "mimetype": "text/x-python",
   "name": "python",
   "nbconvert_exporter": "python",
   "pygments_lexer": "ipython3",
   "version": "3.7.6"
  },
  "toc": {
   "base_numbering": 1,
   "nav_menu": {},
   "number_sections": true,
   "sideBar": true,
   "skip_h1_title": false,
   "title_cell": "Table of Contents",
   "title_sidebar": "Contents",
   "toc_cell": false,
   "toc_position": {},
   "toc_section_display": true,
   "toc_window_display": false
  }
 },
 "nbformat": 4,
 "nbformat_minor": 5
}
