{
 "cells": [
  {
   "cell_type": "markdown",
   "id": "033418d9",
   "metadata": {},
   "source": [
    "# Frame the Problem and Look at the Big Picture"
   ]
  },
  {
   "cell_type": "markdown",
   "id": "4c7fc8de",
   "metadata": {},
   "source": [
    "## Define the objective in business terms."
   ]
  },
  {
   "cell_type": "markdown",
   "id": "6a8ad361",
   "metadata": {},
   "source": []
  },
  {
   "cell_type": "markdown",
   "id": "c62fb403",
   "metadata": {},
   "source": [
    "## How will your solution be used?"
   ]
  },
  {
   "cell_type": "markdown",
   "id": "3151e572",
   "metadata": {},
   "source": []
  },
  {
   "cell_type": "markdown",
   "id": "63138d3c",
   "metadata": {},
   "source": [
    "## What are the current solutions/workarounds (if any)?"
   ]
  },
  {
   "cell_type": "markdown",
   "id": "8ec4a521",
   "metadata": {},
   "source": []
  },
  {
   "cell_type": "markdown",
   "id": "c1a131e3",
   "metadata": {},
   "source": [
    "## How should you frame this problem (supervised/unsupervised, online/offline, etc.)?"
   ]
  },
  {
   "cell_type": "markdown",
   "id": "a3ad60e3",
   "metadata": {},
   "source": []
  },
  {
   "cell_type": "markdown",
   "id": "729d70ca",
   "metadata": {},
   "source": [
    "## How should performance be measured?"
   ]
  },
  {
   "cell_type": "markdown",
   "id": "35fb1b08",
   "metadata": {},
   "source": []
  },
  {
   "cell_type": "markdown",
   "id": "678964ca",
   "metadata": {},
   "source": [
    "## Is the performance measure aligned with the business objective?"
   ]
  },
  {
   "cell_type": "markdown",
   "id": "f4a198d9",
   "metadata": {},
   "source": []
  },
  {
   "cell_type": "markdown",
   "id": "f15f6821",
   "metadata": {},
   "source": [
    "## What would be the minimum performance needed to reach the business objective?"
   ]
  },
  {
   "cell_type": "markdown",
   "id": "5cd56266",
   "metadata": {},
   "source": []
  },
  {
   "cell_type": "markdown",
   "id": "5deea22f",
   "metadata": {},
   "source": [
    "## What are comparable problems? Can you reuse experience or tools?"
   ]
  },
  {
   "cell_type": "markdown",
   "id": "f2ec26bd",
   "metadata": {},
   "source": []
  },
  {
   "cell_type": "markdown",
   "id": "a91251b8",
   "metadata": {},
   "source": [
    "## Is human expertise available?"
   ]
  },
  {
   "cell_type": "markdown",
   "id": "66743794",
   "metadata": {},
   "source": []
  },
  {
   "cell_type": "markdown",
   "id": "23327802",
   "metadata": {},
   "source": [
    "## How would you solve the problem manually?"
   ]
  },
  {
   "cell_type": "markdown",
   "id": "3a59a1ae",
   "metadata": {},
   "source": []
  },
  {
   "cell_type": "markdown",
   "id": "30381fc9",
   "metadata": {},
   "source": [
    "## List the assumptions you (or others) have made so far."
   ]
  },
  {
   "cell_type": "markdown",
   "id": "b9befc0f",
   "metadata": {},
   "source": []
  },
  {
   "cell_type": "markdown",
   "id": "271f8f0d",
   "metadata": {},
   "source": [
    "## Very assumptions if possible."
   ]
  },
  {
   "cell_type": "markdown",
   "id": "b1393d62",
   "metadata": {},
   "source": []
  },
  {
   "cell_type": "markdown",
   "id": "794e5b03",
   "metadata": {},
   "source": [
    "# Get the Data"
   ]
  },
  {
   "cell_type": "markdown",
   "id": "f974c175",
   "metadata": {},
   "source": [
    "## List the data you need and how much you need."
   ]
  },
  {
   "cell_type": "code",
   "execution_count": null,
   "id": "d77822f0",
   "metadata": {},
   "outputs": [],
   "source": []
  },
  {
   "cell_type": "markdown",
   "id": "c19d7bc1",
   "metadata": {},
   "source": [
    "## Find and document where you can get that data."
   ]
  },
  {
   "cell_type": "markdown",
   "id": "29ad6b23",
   "metadata": {},
   "source": []
  },
  {
   "cell_type": "markdown",
   "id": "de152d96",
   "metadata": {},
   "source": [
    "## Check how much space it will take."
   ]
  },
  {
   "cell_type": "code",
   "execution_count": null,
   "id": "4ad19489",
   "metadata": {},
   "outputs": [],
   "source": []
  },
  {
   "cell_type": "markdown",
   "id": "a3658a34",
   "metadata": {},
   "source": [
    "## Check legal obligations, and get authorization if necessary."
   ]
  },
  {
   "cell_type": "markdown",
   "id": "dd0baff6",
   "metadata": {},
   "source": []
  },
  {
   "cell_type": "markdown",
   "id": "3e3463a8",
   "metadata": {},
   "source": [
    "## Get access authorizations."
   ]
  },
  {
   "cell_type": "markdown",
   "id": "eb1970e8",
   "metadata": {},
   "source": []
  },
  {
   "cell_type": "markdown",
   "id": "92354d67",
   "metadata": {},
   "source": [
    "## Create a workspace (with enough storage space)."
   ]
  },
  {
   "cell_type": "markdown",
   "id": "7aceab5c",
   "metadata": {},
   "source": []
  },
  {
   "cell_type": "markdown",
   "id": "eef36d06",
   "metadata": {},
   "source": [
    "## Get the data"
   ]
  },
  {
   "cell_type": "code",
   "execution_count": null,
   "id": "939ad1cd",
   "metadata": {},
   "outputs": [],
   "source": []
  },
  {
   "cell_type": "markdown",
   "id": "0c4e310e",
   "metadata": {},
   "source": [
    "## Convert the data to a format you can easily manipulate (without changing the data itself)."
   ]
  },
  {
   "cell_type": "code",
   "execution_count": null,
   "id": "cd64ecd3",
   "metadata": {},
   "outputs": [],
   "source": []
  },
  {
   "cell_type": "markdown",
   "id": "6685dd0c",
   "metadata": {},
   "source": [
    "## Ensure sensitive information is deleted or protected (eg. anonymized)."
   ]
  },
  {
   "cell_type": "code",
   "execution_count": null,
   "id": "b2b3eb0f",
   "metadata": {},
   "outputs": [],
   "source": []
  },
  {
   "cell_type": "markdown",
   "id": "125844dc",
   "metadata": {},
   "source": [
    "## Check the size and type of data (time series, sample, geographical, etc.)."
   ]
  },
  {
   "cell_type": "code",
   "execution_count": null,
   "id": "c0ed2236",
   "metadata": {},
   "outputs": [],
   "source": []
  },
  {
   "cell_type": "markdown",
   "id": "610b958a",
   "metadata": {},
   "source": [
    "## Sample a test set, put it aside, and never look at it (no data snooping!)."
   ]
  },
  {
   "cell_type": "code",
   "execution_count": null,
   "id": "d4060898",
   "metadata": {},
   "outputs": [],
   "source": []
  },
  {
   "cell_type": "markdown",
   "id": "a54dddd6",
   "metadata": {},
   "source": [
    "# Explore the Data"
   ]
  },
  {
   "cell_type": "markdown",
   "id": "20c53bb0",
   "metadata": {},
   "source": [
    "## Create a copy of the data for exploration (sampling it down to a manageable size if necessary)."
   ]
  },
  {
   "cell_type": "code",
   "execution_count": null,
   "id": "e45bcda0",
   "metadata": {},
   "outputs": [],
   "source": []
  },
  {
   "cell_type": "markdown",
   "id": "8a3325f5",
   "metadata": {},
   "source": [
    "## Study each attribute and its characteristics.\n",
    "- Name\n",
    "- Type (categorical, int/float, bounded/unbounded, text, structured, etc.)\n",
    "- % of missing values\n",
    "- Noisiness and type of noise (stochastic, outliers, rounding errors, etc.)\n",
    "- Usefulness for the task\n",
    "- Type of distribution (Gaussian, uniform, logarithmic, etc.)"
   ]
  },
  {
   "cell_type": "code",
   "execution_count": null,
   "id": "0ee9653f",
   "metadata": {},
   "outputs": [],
   "source": []
  },
  {
   "cell_type": "markdown",
   "id": "731fd0ab",
   "metadata": {},
   "source": [
    "## For supervised learning tasks, identify the target attribute(s)."
   ]
  },
  {
   "cell_type": "code",
   "execution_count": null,
   "id": "c0001919",
   "metadata": {},
   "outputs": [],
   "source": []
  },
  {
   "cell_type": "markdown",
   "id": "c7ed7676",
   "metadata": {},
   "source": [
    "## Visualize the data"
   ]
  },
  {
   "cell_type": "code",
   "execution_count": null,
   "id": "cf5d736d",
   "metadata": {},
   "outputs": [],
   "source": []
  },
  {
   "cell_type": "markdown",
   "id": "ac98037d",
   "metadata": {},
   "source": [
    "## Study the correlations between attributes."
   ]
  },
  {
   "cell_type": "code",
   "execution_count": null,
   "id": "e3afaf60",
   "metadata": {},
   "outputs": [],
   "source": []
  },
  {
   "cell_type": "markdown",
   "id": "e1b7d959",
   "metadata": {},
   "source": [
    "## Study how you would solve the problem manually."
   ]
  },
  {
   "cell_type": "code",
   "execution_count": null,
   "id": "9c96735b",
   "metadata": {},
   "outputs": [],
   "source": []
  },
  {
   "cell_type": "markdown",
   "id": "bb2f9624",
   "metadata": {},
   "source": [
    "## Identify the promising transformations you may want to apply."
   ]
  },
  {
   "cell_type": "code",
   "execution_count": null,
   "id": "25f2df76",
   "metadata": {},
   "outputs": [],
   "source": []
  },
  {
   "cell_type": "markdown",
   "id": "bb5e2659",
   "metadata": {},
   "source": [
    "## Identify extra data that would be useful."
   ]
  },
  {
   "cell_type": "code",
   "execution_count": null,
   "id": "1bcc01af",
   "metadata": {},
   "outputs": [],
   "source": []
  },
  {
   "cell_type": "markdown",
   "id": "09ae735d",
   "metadata": {},
   "source": [
    "## Document what you have learned."
   ]
  },
  {
   "cell_type": "markdown",
   "id": "86a3b564",
   "metadata": {},
   "source": []
  },
  {
   "cell_type": "markdown",
   "id": "e0772836",
   "metadata": {},
   "source": [
    "# Prepare the Data\n",
    "- Work on copies of the data (keep the original dataset intact).\n",
    "- Write functions for all data transformations you apply.\n",
    "    - So you can easily prepare the data the next time you get a fresh dataset\n",
    "    - So you can apply these transformations in future projects\n",
    "    - To clean and prepare the test set\n",
    "    - To clean and prepare new data instances once your solution is live\n",
    "    - To make it easy to treat your preparation choices as hyperparameters"
   ]
  },
  {
   "cell_type": "markdown",
   "id": "8ef3d500",
   "metadata": {},
   "source": [
    "## Data cleaning.\n",
    "- Fix or remove outliers (optional)\n",
    "- Fill in missing values (e.g., with zeros, mean, median...) or drop their rows (or columns) "
   ]
  },
  {
   "cell_type": "code",
   "execution_count": null,
   "id": "f8a602f3",
   "metadata": {},
   "outputs": [],
   "source": []
  },
  {
   "cell_type": "markdown",
   "id": "909520b2",
   "metadata": {},
   "source": [
    "## Feature selection (optional).\n",
    "- Drop the attributes that provide no useful information for the task\n",
    "- Use some dimensionality reduction technique if necessary (PCA, KernelPCA, LLE...)"
   ]
  },
  {
   "cell_type": "code",
   "execution_count": null,
   "id": "7f7d52ec",
   "metadata": {},
   "outputs": [],
   "source": []
  },
  {
   "cell_type": "markdown",
   "id": "8d6c154f",
   "metadata": {},
   "source": [
    "## Feature engineering, where appropriate.\n",
    "- Discretize continuous features\n",
    "- Decompose features (e.g., categorical, date/time, etc.)\n",
    "- Add promising transformations of features (e.g., log(x), sqrt(x), x^2, etc.)\n",
    "- Aggregate features into promising new features"
   ]
  },
  {
   "cell_type": "code",
   "execution_count": null,
   "id": "a0032fd6",
   "metadata": {},
   "outputs": [],
   "source": []
  },
  {
   "cell_type": "markdown",
   "id": "86175e38",
   "metadata": {},
   "source": [
    "## Feauture scaling\n",
    "- Standardize or normalize features"
   ]
  },
  {
   "cell_type": "code",
   "execution_count": null,
   "id": "175d4625",
   "metadata": {},
   "outputs": [],
   "source": []
  },
  {
   "cell_type": "markdown",
   "id": "1bdc1182",
   "metadata": {},
   "source": [
    "# Shortlisting Promising Models\n",
    "- If the data is huge, you may want to sample smaller training sets so you can train many different models in a reasonable time (be aware that this penalizes complex models such as large neural nets or Random Forests).\n",
    "- Once again, try to automate these steps as much as possible."
   ]
  },
  {
   "cell_type": "markdown",
   "id": "25cd206d",
   "metadata": {},
   "source": [
    "## Train many quick-and-dirty models from different categories (e.g., linear, naive Bayes, SVM, Random Forest, neural net, etc.) using standard parameters."
   ]
  },
  {
   "cell_type": "code",
   "execution_count": null,
   "id": "70a81f1b",
   "metadata": {},
   "outputs": [],
   "source": []
  },
  {
   "cell_type": "markdown",
   "id": "66c32b86",
   "metadata": {},
   "source": [
    "## Measure and compare their performance.\n",
    "- For each model, use N-fold cross-validation and compute the mean and standard deviation of the performance measure on the N folds."
   ]
  },
  {
   "cell_type": "code",
   "execution_count": null,
   "id": "01f03309",
   "metadata": {},
   "outputs": [],
   "source": []
  },
  {
   "cell_type": "markdown",
   "id": "c9aff9bf",
   "metadata": {},
   "source": [
    "## Analyze the most significant variables for each algorithm."
   ]
  },
  {
   "cell_type": "code",
   "execution_count": null,
   "id": "18cdcfa4",
   "metadata": {},
   "outputs": [],
   "source": []
  },
  {
   "cell_type": "markdown",
   "id": "b7c5cfbc",
   "metadata": {},
   "source": [
    "## Analyze the types of errors the models make.\n",
    "- What data would a human have used to avoid these errors?"
   ]
  },
  {
   "cell_type": "code",
   "execution_count": null,
   "id": "4debc468",
   "metadata": {},
   "outputs": [],
   "source": []
  },
  {
   "cell_type": "markdown",
   "id": "f9e10abb",
   "metadata": {},
   "source": [
    "## Perform a quick round of feature selection and engineering."
   ]
  },
  {
   "cell_type": "code",
   "execution_count": null,
   "id": "85a88d01",
   "metadata": {},
   "outputs": [],
   "source": []
  },
  {
   "cell_type": "markdown",
   "id": "d5984ecd",
   "metadata": {},
   "source": [
    "## Perform one or two more quick iterations of the five previous steps."
   ]
  },
  {
   "cell_type": "code",
   "execution_count": null,
   "id": "aa89da59",
   "metadata": {},
   "outputs": [],
   "source": []
  },
  {
   "cell_type": "markdown",
   "id": "e81886ab",
   "metadata": {},
   "source": [
    "## Shortlist the top three to five most promising models, preferring models that make different types of errors."
   ]
  },
  {
   "cell_type": "code",
   "execution_count": null,
   "id": "6ad3fff5",
   "metadata": {},
   "outputs": [],
   "source": []
  },
  {
   "cell_type": "markdown",
   "id": "61574413",
   "metadata": {},
   "source": [
    "# Fine-Tune the System\n",
    "- You will want to use as much data as possible for this step, especially as you move towards the end of fine-tuning.\n",
    "- As always automate what you can."
   ]
  },
  {
   "cell_type": "markdown",
   "id": "9fbaf811",
   "metadata": {},
   "source": [
    "## Fine-tune the hyperparameters using cross-validation.\n",
    "- Treat your data transformation choices as hyperparameters, especially when you are not sure about them (e.g., if you are not sure whether to replace missing values with zeros or with the median value, or to just drop the rows).\n",
    "- Unless there are very few hyperparameter values to explore, prefer random search over grid search. If training is very long, you may prefer a Bayesian optimization approach (e.g., using Gaussian process priors)."
   ]
  },
  {
   "cell_type": "code",
   "execution_count": null,
   "id": "c8d28a26",
   "metadata": {},
   "outputs": [],
   "source": []
  },
  {
   "cell_type": "markdown",
   "id": "89843e58",
   "metadata": {},
   "source": [
    "## Try Ensemble methods. Combining your best models will often produce better performance than running them individually."
   ]
  },
  {
   "cell_type": "code",
   "execution_count": null,
   "id": "f74ea973",
   "metadata": {},
   "outputs": [],
   "source": []
  },
  {
   "cell_type": "markdown",
   "id": "6808edd2",
   "metadata": {},
   "source": [
    "## Once you are confident about your final model, measure its performance on the test set to estimate the generalization error.\n",
    "- Don't tweak your model after measuring the generalization error: you would just start overfitting the test set."
   ]
  },
  {
   "cell_type": "code",
   "execution_count": null,
   "id": "bb11770a",
   "metadata": {},
   "outputs": [],
   "source": []
  },
  {
   "cell_type": "markdown",
   "id": "7b6bc86f",
   "metadata": {},
   "source": [
    "# Present Your Solution"
   ]
  },
  {
   "cell_type": "markdown",
   "id": "179dece3",
   "metadata": {},
   "source": [
    "## Document what you have down."
   ]
  },
  {
   "cell_type": "markdown",
   "id": "cd8aedf9",
   "metadata": {},
   "source": []
  },
  {
   "cell_type": "markdown",
   "id": "89e7eb30",
   "metadata": {},
   "source": [
    "## Create a nice presentation.\n",
    "- Make sure you highlight the big picture first."
   ]
  },
  {
   "cell_type": "markdown",
   "id": "d87477be",
   "metadata": {},
   "source": []
  },
  {
   "cell_type": "markdown",
   "id": "2dbb263d",
   "metadata": {},
   "source": [
    "## Explain why your solution achieves the business objective."
   ]
  },
  {
   "cell_type": "markdown",
   "id": "cb820056",
   "metadata": {},
   "source": []
  },
  {
   "cell_type": "markdown",
   "id": "987bbe9c",
   "metadata": {},
   "source": [
    "## Don't forget to present interesting points you noticed along the way.\n",
    "- Describe what worked and what did not.\n",
    "- List your assumptions and your system's limitations."
   ]
  },
  {
   "cell_type": "markdown",
   "id": "2024cd2c",
   "metadata": {},
   "source": []
  },
  {
   "cell_type": "markdown",
   "id": "745d9e52",
   "metadata": {},
   "source": [
    "## Ensure your key findings are communicated through beautiful visalizations or easy-to-remember statements."
   ]
  },
  {
   "cell_type": "markdown",
   "id": "d475a9c8",
   "metadata": {},
   "source": []
  },
  {
   "cell_type": "markdown",
   "id": "a86cadff",
   "metadata": {},
   "source": [
    "# Launch!"
   ]
  },
  {
   "cell_type": "markdown",
   "id": "a50f2e9e",
   "metadata": {},
   "source": [
    "## Get your solution ready for production (plug into production data inputs, write unit tests, etc.)."
   ]
  },
  {
   "cell_type": "markdown",
   "id": "2f205583",
   "metadata": {},
   "source": []
  },
  {
   "cell_type": "markdown",
   "id": "edb2d2b2",
   "metadata": {},
   "source": [
    "## Write monitoring code to check your system's live performance at regular intervals and trigger alerts when it drops.\n",
    "- Beware of slow degradation: models tend to \"rot\" as data evolves.\n",
    "- Measuring performance may require a human pipeline (e.g., via a crowdsourcing service).\n",
    "- Also monitor your inputs' quality (e.g., a malfunctioning sensor sending random values, or another team's output becoming stale). This is particularly important for online learning systems."
   ]
  },
  {
   "cell_type": "markdown",
   "id": "48c0ca50",
   "metadata": {},
   "source": []
  },
  {
   "cell_type": "markdown",
   "id": "8c484351",
   "metadata": {},
   "source": [
    "## Retrain your models on regular basis on fresh data (automate as much as possible)."
   ]
  },
  {
   "cell_type": "markdown",
   "id": "1ed070f4",
   "metadata": {},
   "source": []
  }
 ],
 "metadata": {
  "hide_input": false,
  "kernelspec": {
   "display_name": "Python 3 (ipykernel)",
   "language": "python",
   "name": "python3"
  },
  "language_info": {
   "codemirror_mode": {
    "name": "ipython",
    "version": 3
   },
   "file_extension": ".py",
   "mimetype": "text/x-python",
   "name": "python",
   "nbconvert_exporter": "python",
   "pygments_lexer": "ipython3",
   "version": "3.7.6"
  },
  "toc": {
   "base_numbering": 1,
   "nav_menu": {},
   "number_sections": true,
   "sideBar": true,
   "skip_h1_title": false,
   "title_cell": "Table of Contents",
   "title_sidebar": "Contents",
   "toc_cell": false,
   "toc_position": {},
   "toc_section_display": true,
   "toc_window_display": true
  }
 },
 "nbformat": 4,
 "nbformat_minor": 5
}
